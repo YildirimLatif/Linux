{
 "cells": [
  {
   "cell_type": "markdown",
   "metadata": {},
   "source": [
<<<<<<< HEAD
    "                                                Introduction to Linux\n",
=======
    "                                Introduction to Linux\n",
>>>>>>> c4091184c9213c118bf7df0b7f4377be05d53526
    "Frage 1\n",
    "Which of the following statements about Linux is NOT true? \n",
    "\n",
    "\n",
    "The Android operating system used in many smartphones uses a Linux-based kernel. \n",
    "\n",
    "\n",
    "Clusters of Linux servers can be used for high-performance computing applications. \n",
    "\n",
    "\n",
<<<<<<< HEAD
    "*Windows is based on the Linux operating system.* \n",
    "\n",
    "\n",
    "Enterprise and cloud data centers can run on Linux servers. \n",
    " \n",
    ".\n",
=======
    "'Windows is based on the Linux operating system.' \n",
    "\n",
    "\n",
    "Enterprise and cloud data centers can run on Linux servers. \n",
    "\n",
    "-----------------------------------------------------------\n",
>>>>>>> c4091184c9213c118bf7df0b7f4377be05d53526
    "\n",
    "Frage 2\n",
    "Which of the following is a Linux distribution? \n",
    "\n",
    "\n",
    "IBM AIX \n",
    "\n",
    "\n",
    "FreeBSD \n",
    "\n",
    "\n",
    "Open Solaris \n",
    "\n",
    "\n",
<<<<<<< HEAD
    "*Debian* \n",
    "\n",
    ". \n",
=======
    "'Debian' \n",
    "\n",
    "-----------------------------------------------------------\n",
>>>>>>> c4091184c9213c118bf7df0b7f4377be05d53526
    "\n",
    "Frage 3\n",
    "Which of the following is an example of a shell?  \n",
    "\n",
    "\n",
<<<<<<< HEAD
    "*Zsh* \n",
=======
    "'Zsh' \n",
>>>>>>> c4091184c9213c118bf7df0b7f4377be05d53526
    "\n",
    "\n",
    "Arch \n",
    "\n",
    "\n",
    "Yum \n",
    "\n",
    "\n",
    "Vim \n",
<<<<<<< HEAD
    " \n",
    ".\n",
    " \n",
    "Frage 4\n",
    "Which of the following is the best definition of a Linux terminal? \n",
    " \n",
    "\n",
    "*An application you can use to interact with the Linux shell *\n",
=======
    "\n",
    "-----------------------------------------------------------\n",
    "\n",
    "Frage 4\n",
    "Which of the following is the best definition of a Linux terminal? \n",
    "\n",
    "\n",
    "'An application you can use to interact with the Linux shell'\n",
>>>>>>> c4091184c9213c118bf7df0b7f4377be05d53526
    "\n",
    "\n",
    "An application you can use to edit text files \n",
    "\n",
    "\n",
    "An application you can use to install Linux software \n",
    "\n",
    "\n",
    "An application you can use to update Linux software  \n",
    "\n",
<<<<<<< HEAD
    ".\n",
    " \n",
=======
    "-----------------------------------------------------------\n",
    "\n",
>>>>>>> c4091184c9213c118bf7df0b7f4377be05d53526
    "Frage 5\n",
    "Which of the following text editors can you use in both GUI and command-line mode?\n",
    "\n",
    "\n",
    "GNU nano \n",
    "\n",
    "\n",
    "vim \n",
    "\n",
    "\n",
    "gedit \n",
    "\n",
    "\n",
<<<<<<< HEAD
    "*emacs* \n",
=======
    "'emacs' \n",
>>>>>>> c4091184c9213c118bf7df0b7f4377be05d53526
    "\n"
   ]
  },
  {
   "cell_type": "markdown",
   "metadata": {},
   "source": [
<<<<<<< HEAD
    "                                    Introduction to Linux\n",
=======
    "                           Introduction to Linux\n",
>>>>>>> c4091184c9213c118bf7df0b7f4377be05d53526
    "Frage 1\n",
    "Which of the following statements about Linux distributions is NOT true? \n",
    "\n",
    "\n",
    "Each Linux distribution is tailored for a specific audience or task. \n",
    "\n",
    "\n",
    "A Linux distribution must be based on the Linux kernel. \n",
    "\n",
    "\n",
    "A Linux distribution is also known as a distro. \n",
    "\n",
    "\n",
    "'There are only three types of Linux distribution: core, desktop, and server. '\n",
    " \n",
<<<<<<< HEAD
    ".\n",
=======
    "-----------------------------------------------------------\n",
>>>>>>> c4091184c9213c118bf7df0b7f4377be05d53526
    "\n",
    "Frage 2\n",
    "Which layer of the Linux system contains system daemons and shells? \n",
    " \n",
    "\n",
    "Hardware \n",
    "\n",
    "\n",
    "Operating system \n",
    "\n",
    "\n",
<<<<<<< HEAD
    "Application\n",
=======
    "'Application'\n",
>>>>>>> c4091184c9213c118bf7df0b7f4377be05d53526
    "\n",
    "\n",
    "Kernel \n",
    "\n",
<<<<<<< HEAD
    "Falsch\n",
    "Incorrect. Please review the Overview of Linux Architecture video. \n",
    " \n",
    ".\n",
=======
    "-----------------------------------------------------------\n",
>>>>>>> c4091184c9213c118bf7df0b7f4377be05d53526
    "\n",
    "Frage 3\n",
    "Which layer of the Linux system assigns software to users, helps detect errors, and performs file management tasks? \n",
    "\n",
    "Hardware \n",
    "\n",
    "\n",
    "'Operating system '\n",
    "\n",
    "\n",
    "Kernel \n",
    "\n",
    "\n",
    "Application \n",
    " \n",
<<<<<<< HEAD
    ".\n",
=======
    "-----------------------------------------------------------\n",
>>>>>>> c4091184c9213c118bf7df0b7f4377be05d53526
    "\n",
    "Frage 4\n",
    "Which layer of the Linux system is responsible for memory management, process management, device driver management, and system calls and security? \n",
    "\n",
    "\n",
    "Application \n",
    "\n",
    "\n",
<<<<<<< HEAD
    "Kernel \n",
=======
    "'Kernel' \n",
>>>>>>> c4091184c9213c118bf7df0b7f4377be05d53526
    "\n",
    "\n",
    "Operating system \n",
    "\n",
    "\n",
    "Hardware \n",
    "\n",
<<<<<<< HEAD
    "Falsch\n",
    "Incorrect. Please review the Overview of Linux Architecture video. \n",
    " \n",
    ".\n",
=======
    "-----------------------------------------------------------\n",
>>>>>>> c4091184c9213c118bf7df0b7f4377be05d53526
    "\n",
    "Frage 5\n",
    "Which of the following is NOT a directory in the Linux filesystem? \n",
    " \n",
    "\n",
    "'load' \n",
    "\n",
    "\n",
    "boot \n",
    "\n",
    "\n",
    "home \n",
    "\n",
    "\n",
    "bin \n",
    " \n",
<<<<<<< HEAD
    ".\n",
=======
    "-----------------------------------------------------------\n",
>>>>>>> c4091184c9213c118bf7df0b7f4377be05d53526
    "\n",
    "Frage 6\n",
    "Which of the following is a GUI-based text editor? \n",
    " \n",
    "\n",
    "vim \n",
    "\n",
    "\n",
    "vi \n",
    "\n",
    "\n",
    "'gedit' \n",
    "\n",
    "\n",
    "GNU nano \n",
<<<<<<< HEAD
    " .\n",
=======
     " \n",
    "-----------------------------------------------------------\n",
     " \n",
>>>>>>> c4091184c9213c118bf7df0b7f4377be05d53526
    "Frage 7\n",
    "Which of the following is a path that you can use to navigate to a user’s home directory? \n",
    "\n",
    " \n",
    "\n",
    "'~ '\n",
    "\n",
    "\n",
    "\\home \n",
    "\n",
    "\n",
    "\\myhome \n",
    "\n",
    "\n",
    "\\ \n",
    "\n",
<<<<<<< HEAD
    " .\n",
=======
    " -----------------------------------------------------------\n",
>>>>>>> c4091184c9213c118bf7df0b7f4377be05d53526
    "\n",
    "Frage 8\n",
    "Packages are: \n",
    " \n",
    "\n",
    "Backups \n",
    "\n",
    "\n",
    "Kernels \n",
    "\n",
    "\n",
    "'Archive files '\n",
    "\n",
    "\n",
    "Text editors \n",
    " \n",
<<<<<<< HEAD
    ".\n",
=======
    "-----------------------------------------------------------\n",
>>>>>>> c4091184c9213c118bf7df0b7f4377be05d53526
    "\n",
    "Frage 9\n",
    "Which command can you use to convert package files between deb and RPM formats? \n",
    " \n",
    "\n",
    "yum \n",
    "\n",
    "\n",
    "update \n",
    "\n",
    "\n",
    "apt \n",
    "\n",
    "\n",
    "'alien '\n",
    " \n",
<<<<<<< HEAD
    " .\n",
=======
    "-----------------------------------------------------------\n",
>>>>>>> c4091184c9213c118bf7df0b7f4377be05d53526
    "\n",
    "Frage 10\n",
    "An advantage of using a GUI-based package manager such as PackageKit is that: \n",
    " \n",
    "\n",
    "'It automatically checks for updates at configurable intervals. '\n",
    "\n",
    "\n",
    "It automatically installs new software packages. \n",
    "\n",
    "\n",
    "It works on deb- and RPM-based Linux. \n",
    "\n",
    "\n",
    "It always installs all available updates, so users cannot opt to only install specific updates. "
   ]
  }
 ],
 "metadata": {
  "kernelspec": {
   "display_name": "Python 3.10.7 64-bit (microsoft store)",
   "language": "python",
   "name": "python3"
  },
  "language_info": {
   "name": "python",
   "version": "3.10.7"
  },
  "orig_nbformat": 4,
  "vscode": {
   "interpreter": {
    "hash": "ba33de22a5821ff61dd53097cd70511c2f19fae7b0f9e8b27ee69b6aca2c4956"
   }
  }
 },
 "nbformat": 4,
 "nbformat_minor": 2
}
