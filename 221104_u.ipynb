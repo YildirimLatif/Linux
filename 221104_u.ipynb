{
 "cells": [
  {
   "cell_type": "markdown",
   "metadata": {},
   "source": [
    "\n",
    "Sinan-Inst\n",
    "\n",
    "Check your Command Prompt\n",
    "Check your current path\n",
    "List your current directory contents\n",
    "Go to the root directory and return back to your home directory\n",
    "Create a new directory named “clarusway” and add another directory under it named “lessons”\n",
    "Delete “clarusway” directory\n",
    "Create a file named “test.txt”\n",
    "Delete “test.txt” file\n",
    "Copy “myfile. txt” to “test” directory as “newcopy.txt”\n",
    "Move “myfile.txt” to “test” folder\n",
    "Show the contents of “newfile.txt”\n",
    "Print message to screen\n",
    "Print a text message into a file (echotest.txt)\n",
    "Case Sensitivity: touch two files named “newfile.txt” and “Newfile.txt” respectively and list their properties."
   ]
  }
 ],
 "metadata": {
  "kernelspec": {
   "display_name": "Python 3.10.7 64-bit (microsoft store)",
   "language": "python",
   "name": "python3"
  },
  "language_info": {
   "name": "python",
   "version": "3.10.7"
  },
  "orig_nbformat": 4,
  "vscode": {
   "interpreter": {
    "hash": "ba33de22a5821ff61dd53097cd70511c2f19fae7b0f9e8b27ee69b6aca2c4956"
   }
  }
 },
 "nbformat": 4,
 "nbformat_minor": 2
}
